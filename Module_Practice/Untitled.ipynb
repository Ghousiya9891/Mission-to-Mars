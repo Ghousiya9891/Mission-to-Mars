{
 "cells": [
  {
   "cell_type": "code",
   "execution_count": 1,
   "id": "9bec95bd",
   "metadata": {},
   "outputs": [],
   "source": [
    "from bs4 import BeautifulSoup as soup"
   ]
  },
  {
   "cell_type": "code",
   "execution_count": 2,
   "id": "af40d929",
   "metadata": {},
   "outputs": [],
   "source": [
    "html= \"\"\"\n",
    "<!DOCTYPE html>\n",
    "<html lang=\"en\">\n",
    "<head>\n",
    "    <meta charset=\"UTF-8\">\n",
    "    <meta http-equiv=\"X-UA-Compatible\" content=\"IE=edge\">\n",
    "    <meta name=\"viewport\" content=\"width=device-width, initial-scale=1.0\">\n",
    "    <title>Document</title>\n",
    "</head>\n",
    "<body>\n",
    "\n",
    "    <style>\n",
    "        .even{\n",
    "            color:blue;\n",
    "        }\n",
    "        .odd{\n",
    "            color:red\n",
    "        }\n",
    "    </style>\n",
    "        \n",
    "    <div>\n",
    "        <p class=\"odd\" id=\"first\">First Paragraph</p>\n",
    "        <p class=\"even\" id=\"second\">Second Paragraph</p>\n",
    "        <p class=\"odd\" id=\"third\">Third</p>\n",
    "    </div>\n",
    "    <div>\n",
    "        <p class=\"even\" id=\"fourth\">Fourth Paragraph</p>\n",
    "        <p class=\"odd\" id=\"fifth\">Fifth Paragraph</p>\n",
    "        <p class=\"even\" id=\"sixth\">Sixth Paragraph</p>\n",
    "    </div>\n",
    "</body>\n",
    "</html>\n",
    "\n",
    "\"\"\""
   ]
  },
  {
   "cell_type": "code",
   "execution_count": 11,
   "id": "399edfcb",
   "metadata": {},
   "outputs": [],
   "source": [
    "html_soup=soup(html,'html.parser')"
   ]
  },
  {
   "cell_type": "code",
   "execution_count": 16,
   "id": "15661f9a",
   "metadata": {},
   "outputs": [
    {
     "name": "stdout",
     "output_type": "stream",
     "text": [
      "First Paragraph\n",
      "Third\n",
      "Fifth Paragraph\n"
     ]
    }
   ],
   "source": [
    "odds = html_soup.find_all(class_='odd')\n",
    "for i in odds:\n",
    "    print(i.text)"
   ]
  },
  {
   "cell_type": "code",
   "execution_count": 13,
   "id": "a17c7aae",
   "metadata": {},
   "outputs": [
    {
     "name": "stdout",
     "output_type": "stream",
     "text": [
      "First Paragraph\n"
     ]
    }
   ],
   "source": [
    "first = html_soup.find(\"p\", id=\"first\")\n",
    "print(first.text)"
   ]
  },
  {
   "cell_type": "code",
   "execution_count": null,
   "id": "be00f373",
   "metadata": {},
   "outputs": [],
   "source": []
  }
 ],
 "metadata": {
  "kernelspec": {
   "display_name": "PyhtonData",
   "language": "python",
   "name": "pyhtondata"
  },
  "language_info": {
   "codemirror_mode": {
    "name": "ipython",
    "version": 3
   },
   "file_extension": ".py",
   "mimetype": "text/x-python",
   "name": "python",
   "nbconvert_exporter": "python",
   "pygments_lexer": "ipython3",
   "version": "3.7.13"
  }
 },
 "nbformat": 4,
 "nbformat_minor": 5
}
