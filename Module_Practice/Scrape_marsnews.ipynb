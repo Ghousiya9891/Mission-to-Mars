{
 "cells": [
  {
   "cell_type": "code",
   "execution_count": 1,
   "id": "a72587c5",
   "metadata": {},
   "outputs": [],
   "source": [
    "from splinter import Browser\n",
    "from bs4 import BeautifulSoup\n",
    "from webdriver_manager.chrome import ChromeDriverManager"
   ]
  },
  {
   "cell_type": "code",
   "execution_count": 2,
   "id": "87245a05",
   "metadata": {},
   "outputs": [],
   "source": [
    "executable_path = {'executable_path': ChromeDriverManager().install()}\n",
    "browser = Browser('chrome', **executable_path, headless=False)"
   ]
  },
  {
   "cell_type": "code",
   "execution_count": 3,
   "id": "7ac64754",
   "metadata": {},
   "outputs": [],
   "source": [
    "url=\"https://redplanetscience.com\""
   ]
  },
  {
   "cell_type": "code",
   "execution_count": 4,
   "id": "362d17d2",
   "metadata": {},
   "outputs": [],
   "source": [
    "browser.visit(url)"
   ]
  },
  {
   "cell_type": "code",
   "execution_count": 5,
   "id": "ec592e8f",
   "metadata": {},
   "outputs": [],
   "source": [
    "html=browser.html"
   ]
  },
  {
   "cell_type": "code",
   "execution_count": 6,
   "id": "9c6e1ff8",
   "metadata": {},
   "outputs": [],
   "source": [
    "soup=BeautifulSoup(html,'html.parser')"
   ]
  },
  {
   "cell_type": "code",
   "execution_count": 7,
   "id": "d68983ea",
   "metadata": {},
   "outputs": [
    {
     "name": "stdout",
     "output_type": "stream",
     "text": [
      "<div class=\"list_text\">\n",
      "<div class=\"list_date\">November 9, 2022</div>\n",
      "<div class=\"content_title\">Naming a NASA Mars Rover Can Change Your Life</div>\n",
      "<div class=\"article_teaser_body\">Want to name the robotic scientist NASA is sending to Mars in 2020? The student who named Curiosity — the rover currently exploring Mars — will tell you this is an opportunity worth taking.</div>\n",
      "</div>\n"
     ]
    }
   ],
   "source": [
    "slide_elem = soup.select_one('div.list_text')\n",
    "print(slide_elem)"
   ]
  },
  {
   "cell_type": "code",
   "execution_count": 9,
   "id": "2e3a72f6",
   "metadata": {},
   "outputs": [
    {
     "name": "stdout",
     "output_type": "stream",
     "text": [
      "Naming a NASA Mars Rover Can Change Your Life\n",
      "The Launch Is Approaching for NASA's Next Mars Rover, Perseverance\n",
      "MOXIE Could Help Future Rockets Launch Off Mars\n",
      "NASA's Perseverance Rover Attached to Atlas V Rocket\n",
      "NASA Mars Mission Connects With Bosnian and Herzegovinian Town\n",
      "Screening Soon: 'The Pathfinders' Trains Lens on Mars\n",
      "Mars Helicopter Attached to NASA's Perseverance Rover\n",
      "NASA's Perseverance Rover Goes Through Trials by Fire, Ice, Light and Sound\n",
      "Follow NASA's Perseverance Rover in Real Time on Its Way to Mars\n",
      "NASA's New Mars Rover Is Ready for Space Lasers\n",
      "10.9 Million Names Now Aboard NASA's Perseverance Mars Rover\n",
      "NASA's MAVEN Observes Martian Night Sky Pulsing in Ultraviolet Light\n",
      "Two Rovers to Roll on Mars Again: Curiosity and Mars 2020\n",
      "A New Video Captures the Science of NASA's Perseverance Mars Rover\n",
      "AI Is Helping Scientists Discover Fresh Craters on Mars\n"
     ]
    }
   ],
   "source": [
    "title=soup.find_all('div',class_='content_title')\n",
    "for i in title:\n",
    "    print(i.text)\n"
   ]
  },
  {
   "cell_type": "code",
   "execution_count": null,
   "id": "c019ba14",
   "metadata": {},
   "outputs": [],
   "source": []
  }
 ],
 "metadata": {
  "kernelspec": {
   "display_name": "PyhtonData",
   "language": "python",
   "name": "pyhtondata"
  },
  "language_info": {
   "codemirror_mode": {
    "name": "ipython",
    "version": 3
   },
   "file_extension": ".py",
   "mimetype": "text/x-python",
   "name": "python",
   "nbconvert_exporter": "python",
   "pygments_lexer": "ipython3",
   "version": "3.7.13"
  }
 },
 "nbformat": 4,
 "nbformat_minor": 5
}
